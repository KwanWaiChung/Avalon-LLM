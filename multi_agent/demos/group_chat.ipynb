{
 "cells": [
  {
   "cell_type": "code",
   "execution_count": 1,
   "metadata": {},
   "outputs": [],
   "source": [
    "%load_ext autoreload\n",
    "%autoreload 2"
   ]
  },
  {
   "cell_type": "code",
   "execution_count": 2,
   "metadata": {},
   "outputs": [],
   "source": [
    "import os\n",
    "import sys\n",
    "sys.path.append('../../')"
   ]
  },
  {
   "cell_type": "code",
   "execution_count": 3,
   "metadata": {},
   "outputs": [],
   "source": [
    "from multi_agent.mods import LangchainSession\n",
    "from multi_agent.proxy import MultiAgentProxy\n",
    "from multi_agent.session_wrapper import SessionWrapper\n",
    "from multi_agent.agents import ChatAgent"
   ]
  },
  {
   "cell_type": "code",
   "execution_count": 4,
   "metadata": {},
   "outputs": [],
   "source": [
    "key = \"\"\n",
    "session = LangchainSession(api_key=key, temperature=0.7)\n",
    "num_agents = 3\n",
    "proxy = MultiAgentProxy(session, num_agents)\n",
    "wrapper1 = SessionWrapper(session, proxy)\n",
    "wrapper2 = SessionWrapper(session, proxy)"
   ]
  },
  {
   "cell_type": "code",
   "execution_count": 6,
   "metadata": {},
   "outputs": [],
   "source": [
    "proxy.clean_buffer()\n",
    "proxy.clean_history()\n",
    "agent1 = ChatAgent(0, wrapper1, \"You are Player 1. When generating responses, please directly output what you want to say. You don't need to output `Player x says:`\")\n",
    "agent2 = ChatAgent(1, wrapper1, \"You are Player 2. When generating responses, please directly output what you want to say. You don't need to output `Player x says:`\")\n",
    "agent3 = ChatAgent(2, wrapper2, \"You are Player 3. When generating responses, please directly output what you want to say. You don't need to output `Player x says:`\")"
   ]
  },
  {
   "cell_type": "code",
   "execution_count": 7,
   "metadata": {},
   "outputs": [
    {
     "name": "stdout",
     "output_type": "stream",
     "text": [
      "Action...\n",
      "[ChatHistoryItem(role='user', content=\"You are Player 1. When generating responses, please directly output what you want to say. You don't need to output `Player x says:`\\nYou will be talking to two other agents on the topic of jazz music. Say hi!\\n\")]\n"
     ]
    }
   ],
   "source": [
    "await agent1.send(\"all\", \"You will be talking to two other agents on the topic of jazz music. Say hi!\", max_rounds=2) # need to set max_rounds larger than 1 to ask for reply"
   ]
  },
  {
   "cell_type": "code",
   "execution_count": 9,
   "metadata": {},
   "outputs": [
    {
     "name": "stdout",
     "output_type": "stream",
     "text": [
      "That sounds great! I'm doing well, thank you. How about you, Player 2?\n"
     ]
    }
   ],
   "source": [
    "await agent2.reply_all()"
   ]
  },
  {
   "cell_type": "code",
   "execution_count": 16,
   "metadata": {},
   "outputs": [
    {
     "data": {
      "text/plain": [
       "[[ChatHistoryItem(role='user', content=\"You are Player 1. When generating responses, please directly output what you want to say. You don't need to output `Player x says:`\\nYou will be talking to two other agents on the topic of jazz music. Say hi!\\n\"),\n",
       "  ChatHistoryItem(role='agent', content='Hi! How are you both doing today?')],\n",
       " [ChatHistoryItem(role='user', content=\"You are Player 2. When generating responses, please directly output what you want to say. You don't need to output `Player x says:`\\nPlayer 1 says:\\nHi! How are you both doing today?\\n\")],\n",
       " [ChatHistoryItem(role='user', content=\"You are Player 3. When generating responses, please directly output what you want to say. You don't need to output `Player x says:`\\nPlayer 1 says:\\nHi! How are you both doing today?\\n\")]]"
      ]
     },
     "execution_count": 16,
     "metadata": {},
     "output_type": "execute_result"
    }
   ],
   "source": [
    "proxy.history"
   ]
  },
  {
   "cell_type": "code",
   "execution_count": 17,
   "metadata": {},
   "outputs": [
    {
     "data": {
      "text/plain": [
       "[ChatHistoryItem(role='user', content=\"You are Player 2. When generating responses, please directly output what you want to say. You don't need to output `Player x says:`\\nPlayer 1 says:\\nHi! How are you both doing today?\\n\")]"
      ]
     },
     "execution_count": 17,
     "metadata": {},
     "output_type": "execute_result"
    }
   ],
   "source": [
    "proxy.session.history"
   ]
  },
  {
   "cell_type": "code",
   "execution_count": null,
   "metadata": {},
   "outputs": [],
   "source": []
  }
 ],
 "metadata": {
  "kernelspec": {
   "display_name": "avalon",
   "language": "python",
   "name": "python3"
  },
  "language_info": {
   "codemirror_mode": {
    "name": "ipython",
    "version": 3
   },
   "file_extension": ".py",
   "mimetype": "text/x-python",
   "name": "python",
   "nbconvert_exporter": "python",
   "pygments_lexer": "ipython3",
   "version": "3.9.18"
  }
 },
 "nbformat": 4,
 "nbformat_minor": 2
}
