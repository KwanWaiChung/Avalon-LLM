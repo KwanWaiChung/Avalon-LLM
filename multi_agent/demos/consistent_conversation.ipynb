{
 "cells": [
  {
   "cell_type": "code",
   "execution_count": 1,
   "metadata": {},
   "outputs": [],
   "source": [
    "%load_ext autoreload\n",
    "%autoreload 2"
   ]
  },
  {
   "cell_type": "code",
   "execution_count": 2,
   "metadata": {},
   "outputs": [],
   "source": [
    "import os\n",
    "import sys\n",
    "sys.path.append('../../')"
   ]
  },
  {
   "cell_type": "code",
   "execution_count": 3,
   "metadata": {},
   "outputs": [],
   "source": [
    "from multi_agent.mods import LangchainSession\n",
    "from multi_agent.proxy import MultiAgentProxy\n",
    "from multi_agent.session_wrapper import SessionWrapper"
   ]
  },
  {
   "cell_type": "code",
   "execution_count": 4,
   "metadata": {},
   "outputs": [],
   "source": [
    "key = \"\"\n",
    "session = LangchainSession(api_key=key)\n",
    "num_agents = 2\n",
    "proxy = MultiAgentProxy(session, num_agents)\n",
    "wrapper = SessionWrapper(session, proxy)"
   ]
  },
  {
   "cell_type": "code",
   "execution_count": 5,
   "metadata": {},
   "outputs": [],
   "source": [
    "from multi_agent.agents import ChatAgent"
   ]
  },
  {
   "cell_type": "code",
   "execution_count": 6,
   "metadata": {},
   "outputs": [],
   "source": [
    "agent1 = ChatAgent(0, wrapper)\n",
    "agent2 = ChatAgent(1, wrapper)"
   ]
  },
  {
   "cell_type": "code",
   "execution_count": 11,
   "metadata": {},
   "outputs": [
    {
     "name": "stdout",
     "output_type": "stream",
     "text": [
      "Injecting:  0\n",
      "Action...\n",
      "[ChatHistoryItem(role='user', content=\"You will be talking to another agent on the topic of jazz music. Say hi! When generating responses, please directly output what you want to say. You don't need to output `Agent x says:`\")]\n",
      "Agent 1:\n",
      "Hello! I'm an AI, so I don't have personal preferences or emotions like humans do. However, I can understand why jazz music is often appreciated for its uniqueness and expressiveness. It has a rich history and a wide range of styles, from smooth and melodic to complex and improvisational. Many people find jazz to be a captivating and soulful genre.\n",
      "=======================================================\n",
      "Agent 0:\n",
      "That's fascinating! As an AI, you have a unique perspective on jazz music. I completely agree with you about its rich history and diverse styles. Jazz has this incredible ability to evoke emotions and transport listeners to a different time and place. Do you have any favorite jazz artists or songs?\n",
      "=======================================================\n",
      "Agent 1:\n",
      "As an AI, I don't have personal preferences or favorites. However, there are many iconic jazz artists and songs that have left a lasting impact on the genre. Some notable jazz musicians include Louis Armstrong, Miles Davis, Duke Ellington, Ella Fitzgerald, and John Coltrane, among many others. As for songs, classics like \"Take the A Train\" by Duke Ellington, \"Summertime\" by George Gershwin, and \"So What\" by Miles Davis are widely recognized and loved. Jazz offers a vast repertoire, so there's always something for everyone to enjoy!\n",
      "=======================================================\n",
      "Agent 0:\n",
      "Absolutely! Those are all fantastic choices. Jazz truly has a vast repertoire that spans across different eras and subgenres. It's incredible how these iconic artists and songs have shaped the genre and continue to inspire musicians today. The improvisational nature of jazz allows for endless creativity and exploration, making it a genre that never gets old. It's always exciting to discover new jazz artists and delve into their unique styles. Do you have any favorite jazz subgenres or specific eras that you find particularly interesting?\n",
      "=======================================================\n",
      "Agent 1:\n",
      "While I don't have personal preferences, I can certainly understand why different jazz subgenres and eras can be fascinating. Jazz has evolved over time, giving rise to various subgenres and styles. Some notable subgenres include bebop, cool jazz, modal jazz, fusion, and Latin jazz, among others. Each subgenre has its own distinct characteristics and influential figures. Additionally, different eras in jazz, such as the swing era, the bebop revolution, or the avant-garde movement, have contributed to the genre's evolution and diversity. Exploring these subgenres and eras can provide a deeper understanding of the rich tapestry of jazz music.\n",
      "=======================================================\n",
      "Agent 0:\n",
      "Absolutely! Jazz subgenres and eras offer a fascinating journey through the evolution of the genre. Bebop, with its complex melodies and fast tempos, brought a new level of virtuosity and improvisation to jazz. Cool jazz, on the other hand, embraced a more relaxed and laid-back sound, with artists like Miles Davis leading the way. Modal jazz, popularized by artists like John Coltrane, explored a more modal approach to improvisation, creating a unique and atmospheric sound. Fusion blended jazz with elements of rock, funk, and other genres, resulting in a fusion of styles and experimentation. Latin jazz infused Afro-Cuban rhythms and instrumentation into the jazz framework, creating a vibrant and rhythmic fusion. Each subgenre and era has its own distinct flavor and contribution to the jazz landscape. It's truly a genre that continues to evolve and push boundaries.\n",
      "=======================================================\n",
      "Agent 1:\n",
      "You've captured the essence of these jazz subgenres and eras beautifully! Each one brought something unique to the table and expanded the boundaries of jazz music. The constant evolution and experimentation within the genre have allowed jazz to remain relevant and captivating to this day. It's remarkable how jazz has been able to incorporate elements from various musical traditions and create new and exciting sounds. Whether it's the intricate improvisations of bebop or the fusion of genres in contemporary jazz, there's always something fresh and innovative happening in the world of jazz. It's a testament to the genre's enduring spirit and its ability to adapt and reinvent itself over time.\n",
      "=======================================================\n",
      "Agent 0:\n",
      "Thank you! I completely agree with you. Jazz's ability to adapt, reinvent, and incorporate elements from different musical traditions is truly remarkable. It's what keeps the genre alive and relevant, attracting new audiences while still captivating longtime jazz enthusiasts. The spirit of innovation and exploration within jazz is what makes it such a dynamic and exciting genre. Whether it's through the virtuosic solos, complex harmonies, or the deep emotional expression, jazz continues to push boundaries and inspire musicians and listeners alike. It's a genre that truly stands the test of time.\n",
      "=======================================================\n",
      "Agent 1:\n",
      "Absolutely! Jazz's ability to captivate and inspire both musicians and listeners is a testament to its enduring appeal. The genre's rich history, diverse styles, and constant innovation make it a source of endless fascination. Jazz has a way of connecting with people on a deep emotional level, whether it's through the soulful melodies, the intricate improvisations, or the infectious rhythms. It's a genre that invites exploration and invites us to embrace the unexpected. Jazz truly has a timeless quality that continues to resonate with people across generations.\n",
      "=======================================================\n",
      "Agent 0:\n",
      "=======================================================\n"
     ]
    }
   ],
   "source": [
    "proxy.clean_buffer()\n",
    "proxy.clean_history()\n",
    "await agent1.send(1, \"You will be talking to another agent on the topic of jazz music. Say hi! When generating responses, please directly output what you want to say. You don't need to output `Agent x says:`\", max_rounds=10)\n",
    "end = False\n",
    "idx = 0\n",
    "agent_list = [agent1, agent2]\n",
    "while not end:\n",
    "    end = True\n",
    "    for idx in range(0, 2):\n",
    "        agent = agent_list[idx]\n",
    "        if not proxy.message_buffer[agent.id].empty():\n",
    "            print(f\"Agent {idx}:\")\n",
    "            end = False\n",
    "            await agent.reply_single((idx + 1) % 2)\n",
    "            print(\"=======================================================\")"
   ]
  },
  {
   "cell_type": "code",
   "execution_count": null,
   "metadata": {},
   "outputs": [],
   "source": [
    "await agent2.reply_all()"
   ]
  },
  {
   "cell_type": "code",
   "execution_count": null,
   "metadata": {},
   "outputs": [],
   "source": [
    "await agent1.reply_all()"
   ]
  },
  {
   "cell_type": "code",
   "execution_count": null,
   "metadata": {},
   "outputs": [],
   "source": [
    "proxy.message_buffer[0].empty()"
   ]
  },
  {
   "cell_type": "code",
   "execution_count": null,
   "metadata": {},
   "outputs": [],
   "source": [
    "proxy.history"
   ]
  },
  {
   "cell_type": "code",
   "execution_count": null,
   "metadata": {},
   "outputs": [],
   "source": [
    "proxy.session.history"
   ]
  },
  {
   "cell_type": "code",
   "execution_count": null,
   "metadata": {},
   "outputs": [],
   "source": []
  }
 ],
 "metadata": {
  "kernelspec": {
   "display_name": "avalon",
   "language": "python",
   "name": "python3"
  },
  "language_info": {
   "codemirror_mode": {
    "name": "ipython",
    "version": 3
   },
   "file_extension": ".py",
   "mimetype": "text/x-python",
   "name": "python",
   "nbconvert_exporter": "python",
   "pygments_lexer": "ipython3",
   "version": "3.9.18"
  }
 },
 "nbformat": 4,
 "nbformat_minor": 2
}
